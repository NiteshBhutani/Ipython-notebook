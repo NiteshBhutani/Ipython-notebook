{
 "cells": [
  {
   "cell_type": "code",
   "execution_count": 4,
   "metadata": {
    "collapsed": true
   },
   "outputs": [],
   "source": [
    "import json\n",
    "import pandas as pd\n",
    "from operator import itemgetter\n",
    "from twitter import *\n"
   ]
  },
  {
   "cell_type": "code",
   "execution_count": 11,
   "metadata": {
    "collapsed": true
   },
   "outputs": [],
   "source": [
    "# Loading my authentication tokens\n",
    "with open('auth_dict','r') as f:\n",
    "    twtr_auth = json.load(f)\n",
    "\n",
    "# To make it more readable, lets store\n",
    "# the OAuth credentials in strings first.\n",
    "CONSUMER_KEY = twtr_auth['consumer_key']\n",
    "CONSUMER_SECRET = twtr_auth['consumer_secret']\n",
    "OAUTH_TOKEN = twtr_auth['token']\n",
    "OAUTH_TOKEN_SECRET = twtr_auth['token_secret']\n",
    "    \n",
    "# Then, we store the OAuth object in \"auth\"\n",
    "auth = OAuth(OAUTH_TOKEN, OAUTH_TOKEN_SECRET,\n",
    "                           CONSUMER_KEY, CONSUMER_SECRET)\n",
    "# Notice that there are four tokens - you need to create these in the\n",
    "# Twitter Apps dashboard after you have created your own \"app\".\n",
    "\n",
    "# We now create the twitter search object.\n",
    "t = Twitter(auth=auth)"
   ]
  },
  {
   "cell_type": "code",
   "execution_count": 12,
   "metadata": {
    "collapsed": true
   },
   "outputs": [],
   "source": [
    "import sys\n",
    "import time\n",
    "from twitter.api import TwitterHTTPError\n",
    "from urllib.error import URLError\n",
    "from http.client import BadStatusLine\n",
    "\n",
    "def make_twitter_request(twitter_api_func, max_errors=10, *args, **kw):\n",
    "    # A nested helper function that handles common HTTPErrors. Return an updated\n",
    "    # value for wait_period if the problem is a 500 level error. Block until the\n",
    "    # rate limit is reset if it's a rate limiting issue (429 error). Returns None\n",
    "    # for 401 and 404 errors, which requires special handling by the caller.\n",
    "    def handle_twitter_http_error(e, wait_period=2, sleep_when_rate_limited=True):\n",
    "        if wait_period > 3600: # Seconds\n",
    "            print('Too many retries. Quitting.', file=sys.stderr)\n",
    "            raise e\n",
    "        if e.e.code == 401:\n",
    "            return None\n",
    "        elif e.e.code == 404:\n",
    "            print('Encountered 404 Error (Not Found)', file=sys.stderr)\n",
    "            return None\n",
    "        elif e.e.code == 429:\n",
    "            print('Encountered 429 Error (Rate Limit Exceeded)', file=sys.stderr)\n",
    "            if sleep_when_rate_limited:\n",
    "                print(\"Retrying in 15 minutes...ZzZ...\", file=sys.stderr)\n",
    "                sys.stderr.flush()\n",
    "                time.sleep(60*15 + 5)\n",
    "                print('...ZzZ...Awake now and trying again.', file=sys.stderr)\n",
    "                return 2\n",
    "            else:\n",
    "                raise e # Caller must handle the rate limiting issue\n",
    "        elif e.e.code in (500, 502, 503, 504):\n",
    "            print('Encountered %i Error. Retrying in %i seconds' % (e.e.code, wait_period), file=sys.stderr)\n",
    "            time.sleep(wait_period)\n",
    "            wait_period *= 1.5\n",
    "            return wait_period\n",
    "        else:\n",
    "            raise e\n",
    "\n",
    "    # End of nested helper function\n",
    "\n",
    "    wait_period = 2\n",
    "    error_count = 0\n",
    "    while True:\n",
    "        try:\n",
    "            return twitter_api_func(*args, **kw)\n",
    "        except TwitterHTTPError as e:\n",
    "            error_count = 0\n",
    "            wait_period = handle_twitter_http_error(e, wait_period)\n",
    "            if wait_period is None:\n",
    "                return\n",
    "        except URLError as e:\n",
    "            error_count += 1\n",
    "            print(\"URLError encountered. Continuing.\", file=sys.stderr)\n",
    "            if error_count > max_errors:\n",
    "                print(\"Too many consecutive errors...bailing out.\", file=sys.stderr)\n",
    "                raise\n",
    "        except BadStatusLine as e:\n",
    "            error_count += 1\n",
    "            print >> sys.stderr, \"BadStatusLine encountered. Continuing.\"\n",
    "            if error_count > max_errors:\n",
    "                print(\"Too many consecutive errors...bailing out.\", file=sys.stderr)\n",
    "                raise"
   ]
  },
  {
   "cell_type": "code",
   "execution_count": 13,
   "metadata": {
    "collapsed": true
   },
   "outputs": [],
   "source": [
    "# This will let us create new partial\n",
    "# functions with arguments set to \n",
    "# certain values.\n",
    "from functools import partial\n",
    "\n",
    "# This was maxint.\n",
    "# There is no longer a maxint (in Python 3)\n",
    "from sys import maxsize\n",
    "\n",
    "\n",
    "def get_friends_followers_ids(twitter_api, screen_name=None, user_id=None,\n",
    "                                friends_limit=maxsize, followers_limit=maxsize):\n",
    "    # Must have either screen_name or user_id (logical xor)\n",
    "    assert (screen_name != None) != (user_id != None), \\\n",
    "    \"Must have screen_name or user_id, but not both\"\n",
    "    \n",
    "    # You can also do this with a function closure.\n",
    "    get_friends_ids = partial(make_twitter_request, twitter_api.friends.ids,\n",
    "                                count=500)\n",
    "    get_followers_ids = partial(make_twitter_request, twitter_api.followers.ids,\n",
    "                                count=500)\n",
    "    friends_ids, followers_ids = [], []\n",
    "    for twitter_api_func, limit, ids, label in [\n",
    "            [get_friends_ids, friends_limit, friends_ids, \"friends\"],\n",
    "            [get_followers_ids, followers_limit, followers_ids, \"followers\"]\n",
    "            ]:\n",
    "        #LOOK HERE! This little line is important.\n",
    "        if limit == 0: continue\n",
    "        cursor = -1\n",
    "        while cursor != 0:\n",
    "            # Use make_twitter_request via the partially bound callable...\n",
    "            if screen_name:\n",
    "                response = twitter_api_func(screen_name=screen_name, cursor=cursor)\n",
    "            else: # user_id\n",
    "                response = twitter_api_func(user_id=user_id, cursor=cursor)\n",
    "            if response is not None:\n",
    "                ids += response['ids']\n",
    "                cursor = response['next_cursor']\n",
    "            print('Fetched {0} total {1} ids for {2}'.format(len(ids),\n",
    "                    label, (user_id or screen_name), file=sys.stderr))\n",
    "            if len(ids) >= limit or response is None:\n",
    "                break\n",
    "    # Do something useful with the IDs, like store them to disk...\n",
    "    return friends_ids[:friends_limit], followers_ids[:followers_limit]\n"
   ]
  },
  {
   "cell_type": "code",
   "execution_count": 14,
   "metadata": {
    "collapsed": true
   },
   "outputs": [],
   "source": [
    "# initailizeing file\n",
    "def initialize_file(filename):\n",
    "    df = pd.DataFrame(columns=['ID','followers'])\n",
    "    df.to_csv(filename, index=False)\n",
    "\n",
    "# Our function\n",
    "def save_friendshipGraph(filename,fid, followers):\n",
    "    df = pd.DataFrame([[fid, followers]], columns=['ID','followers'])\n",
    "    \n",
    "    with open(filename, 'a') as f:\n",
    "        df.to_csv(f,header=False, index=False)"
   ]
  },
  {
   "cell_type": "code",
   "execution_count": 15,
   "metadata": {
    "collapsed": true
   },
   "outputs": [],
   "source": [
    "def crawl_reciprocal_friends(twitter_api, screen_name, limit=500, depth=3):\n",
    "    initialize_file('friendship.csv')\n",
    "    # Resolve the ID for screen_name and start working with IDs for consistency\n",
    "    seed_id = str(twitter_api.users.show(screen_name=screen_name)['id'])\n",
    "    _, followers_next_queue = get_friends_followers_ids(twitter_api, user_id=seed_id,\n",
    "                        friends_limit=0, followers_limit=limit)\n",
    "    \n",
    "    friends_next_queue, _ = get_friends_followers_ids(twitter_api, user_id=seed_id,\n",
    "                        friends_limit=limit, followers_limit=0)\n",
    "    \n",
    "    reciprocal_friends_queue = list(set(followers_next_queue) & set(friends_next_queue))\n",
    "    \n",
    "    most_popular_rf_queue = []\n",
    "    #getting most followers count\n",
    "    for u_id in reciprocal_friends_queue:\n",
    "            follower_count = twitter_api.users.show(user_id=u_id)['followers_count']\n",
    "            most_popular_rf_queue.append([u_id, follower_count])\n",
    "    most_popular_rf_queue = sorted(most_popular_rf_queue, key=itemgetter(1),reverse=True)\n",
    "    print(most_popular_rf_queue)\n",
    "    most_popular_rf_queue = most_popular_rf_queue[:5]\n",
    "    reciprocal_friends_queue = [x for x,y in most_popular_rf_queue]\n",
    "    # Store a seed_id => _follower_ids mapping in MongoDB\n",
    "    save_friendshipGraph('friendship.csv',seed_id, ','.join([str(x) for x,y in most_popular_rf_queue]))\n",
    "    next_queue = reciprocal_friends_queue\n",
    "    d = 1\n",
    "    # Note that in the example in the next cell,\n",
    "    # we never enter this loop.\n",
    "    while d < depth:\n",
    "        d += 1\n",
    "        # Reset the next_queue so that we can\n",
    "        # start building up the next level\n",
    "        # of followers-of-followers\n",
    "        (queue, next_queue) = (next_queue, [])\n",
    "        # Loop through the current\n",
    "        # level of followers\n",
    "        for fid in queue:\n",
    "            \n",
    "            _, followers_id = get_friends_followers_ids(twitter_api, user_id=fid,\n",
    "                        friends_limit=0, followers_limit=limit)\n",
    "    \n",
    "            friends_id, _ = get_friends_followers_ids(twitter_api, user_id=fid,\n",
    "                        friends_limit=limit, followers_limit=0)\n",
    "    \n",
    "            reciprocal_friends_id = list(set(followers_id) & set(friends_id))\n",
    "            print(\"len of recprical friend for \" + str(fid) + \" :\" + str(len(reciprocal_friends_id)))        \n",
    "            most_popular_rf_id = []\n",
    "            #getting most followers count\n",
    "            for u_id in reciprocal_friends_id:\n",
    "                follower_count = twitter_api.users.show(user_id=u_id)['followers_count']\n",
    "                most_popular_rf_id.append([u_id, follower_count])\n",
    "            most_popular_rf_id = sorted(most_popular_rf_id, key=itemgetter(1),reverse=True)\n",
    "            print(most_popular_rf_id)\n",
    "            if(len(most_popular_rf_id)>10):\n",
    "                most_popular_rf_id = most_popular_rf_id[:10]\n",
    "            else:\n",
    "                most_popular_rf_id = most_popular_rf_id \n",
    "            reciprocal_friends_id = [x for x,y in most_popular_rf_id]\n",
    "            # Store a seed_id => _follower_ids mapping in MongoDB\n",
    "            save_friendshipGraph('friendship.csv',str(fid), ','.join([str(x) for x,y in most_popular_rf_id]))\n",
    "            next_queue += reciprocal_friends_id\n",
    "            print(next_queue)\n",
    "    "
   ]
  },
  {
   "cell_type": "code",
   "execution_count": 16,
   "metadata": {},
   "outputs": [
    {
     "name": "stdout",
     "output_type": "stream",
     "text": [
      "Fetched 184 total followers ids for 853288753\n",
      "Fetched 398 total friends ids for 853288753\n",
      "[[437795283, 1484], [423816291, 1111], [528037924, 1038], [52869614, 901], [413455517, 898], [137776808, 841], [343005437, 705], [328060886, 700], [59517280, 687], [539408318, 668], [346044941, 667], [402245990, 656], [390376335, 647], [51780160, 612], [1183923746, 601], [354915187, 598], [858987763, 590], [308662237, 590], [394440059, 589], [323841169, 588], [199805866, 588], [255163915, 583], [375828759, 583], [48564307, 577], [865554470, 571], [1403883986, 569], [298319786, 566], [21795485, 561], [348600617, 514], [593846283, 507], [87280125, 505], [1044898662, 504], [586001161, 501], [1086791023, 499], [718124079, 485], [1164511819, 484], [456248624, 481], [614455216, 480], [332022037, 479], [90518164, 470], [1190470027, 469], [837440138, 459], [87800431, 456], [356131997, 451], [462490643, 448], [1323695694, 446], [420489123, 443], [969286386, 438], [130664618, 429], [1424368381, 428], [585989768, 425], [46736024, 424], [1335469693, 417], [254796582, 417], [1308957175, 410], [573183677, 407], [59014975, 404], [561522006, 397], [946670473, 396], [2151730895, 390], [433583582, 389], [419081184, 389], [373102716, 386], [400866717, 380], [1168893061, 374], [780653335, 372], [2941045000, 367], [193150241, 355], [275035901, 353], [413418594, 352], [282363265, 349], [473376157, 345], [356421141, 343], [359592989, 339], [199407551, 318], [57376321, 317], [184134893, 317], [725012394, 317], [285885460, 314], [2228030705, 313], [1163669948, 309], [1471233284, 307], [1350150967, 307], [705500329, 302], [2242753709, 302], [1615204992, 293], [260999630, 284], [301193299, 282], [2403761774, 282], [1561074733, 279], [1069545110, 274], [200759429, 270], [883154376, 267], [420686558, 264], [466233219, 263], [1696764481, 262], [756342451, 261], [616184962, 260], [1161882667, 257], [1330153057, 257], [3327007517, 257], [381156163, 257], [403821534, 254], [493539396, 253], [1664131148, 251], [832070634, 250], [447107995, 249], [2850382363, 248], [1255951447, 236], [617352729, 235], [743535775, 234], [1002470257, 234], [1023131611, 230], [1161726488, 224], [2149840110, 224], [352789310, 224], [331854727, 222], [1069399454, 221], [855190651, 219], [588688525, 215], [354945933, 214], [435099887, 213], [2939984494, 205], [368598765, 200], [853697744, 195], [2161251763, 195], [87301449, 184], [351169549, 179], [762973326, 179], [326894543, 178], [1952967546, 176], [1942086007, 175], [282817623, 173], [2883392787, 172], [2463829464, 167], [700419768, 162], [1166522059, 162], [358142820, 160], [251641339, 159], [3518771837, 158], [2806051756, 152], [1567325215, 151], [853209433, 151], [378834624, 147], [432855347, 144], [565873012, 144], [3069198269, 136], [126728001, 133], [340411490, 132], [1135663946, 127], [2560472109, 120], [1198638692, 117], [3592952117, 113], [865504100, 107], [1117065248, 101], [874616434151829506, 91], [2800397268, 89], [893109530619457536, 87], [3375770675, 80], [457266318, 67], [879864228949217281, 66], [981632407, 58], [2475150117, 56], [3420147155, 50], [2395359783, 49], [3594193095, 43], [954675524, 43], [936290812043911173, 36], [1180846675, 36], [3642410653, 33]]\n",
      "None\n"
     ]
    }
   ],
   "source": [
    "screen_name = \"FCBarcelona\"\n",
    "print(crawl_reciprocal_friends(t, screen_name, depth=1, limit=500))\n"
   ]
  },
  {
   "cell_type": "markdown",
   "metadata": {},
   "source": [
    "## After Crawling [id] [Followers] are saved in 'friendship.csv' file\n",
    "## Doing Analysis on this file"
   ]
  },
  {
   "cell_type": "code",
   "execution_count": 55,
   "metadata": {
    "collapsed": true
   },
   "outputs": [],
   "source": [
    "import csv\n",
    "import networkx as nx\n",
    "import numpy as np\n",
    "\n",
    "friends_g = nx.Graph()  \n",
    "def createFriendshipGraph_fromCsv(filename):\n",
    "    G = nx.Graph()\n",
    "    with open(filename) as csvfile:\n",
    "        length = 0\n",
    "        readCSV = csv.reader(csvfile, delimiter=',')\n",
    "        for row in readCSV:\n",
    "            edge_list = []\n",
    "            length = length + 1\n",
    "            if(length == 1) : continue\n",
    "            for x in row[1].split(',') :\n",
    "                if x != '':\n",
    "                    edge_list.append((int(row[0]),int(x)))\n",
    "            #print(\"adding node : \" + row[0])\n",
    "            G.add_node(int(row[0]))\n",
    "            #print(\"adding nodes : \" + str([x for x in row[1].split(',') if x != '']))\n",
    "            G.add_nodes_from([int(x) for x in row[1].split(',') if x != ''])\n",
    "            #print(edge_list)\n",
    "            G.add_edges_from(edge_list)\n",
    "            #print(\"No of Nodes \" + str(G.number_of_nodes()))\n",
    "            #print(\"No of Edges \" + str(G.number_of_edges()))\n",
    "    return G\n",
    "friends_g = createFriendshipGraph_fromCsv(\"friendship.csv\")\n"
   ]
  },
  {
   "cell_type": "code",
   "execution_count": 56,
   "metadata": {},
   "outputs": [
    {
     "name": "stdout",
     "output_type": "stream",
     "text": [
      "No of edges 131\n",
      "No of nodes 132\n"
     ]
    }
   ],
   "source": [
    "print(\"No of edges \" + str(friends_g.number_of_edges()))\n",
    "print(\"No of nodes \" + str(friends_g.number_of_nodes()))\n"
   ]
  },
  {
   "cell_type": "markdown",
   "metadata": {},
   "source": [
    "# Performing Community Analysis on it - Applying K-means on it"
   ]
  },
  {
   "cell_type": "code",
   "execution_count": 58,
   "metadata": {
    "collapsed": true
   },
   "outputs": [],
   "source": [
    "import matplotlib.pyplot as plt\n",
    "A = nx.adjacency_matrix(friends_g)\n",
    "D = np.diag(list(dict(nx.degree(friends_g)).values()))\n",
    "L = D - A\n",
    "lmbds,vctrs = np.linalg.eig(L)\n"
   ]
  },
  {
   "cell_type": "code",
   "execution_count": 59,
   "metadata": {
    "collapsed": true
   },
   "outputs": [],
   "source": [
    "indx = [i for i in range(len(lmbds)) if lmbds[i] > .01 and lmbds[i] < .1]\n",
    "RG_mbd = vctrs[:,indx]\n"
   ]
  },
  {
   "cell_type": "code",
   "execution_count": 60,
   "metadata": {},
   "outputs": [
    {
     "data": {
      "text/plain": [
       "KMeans(algorithm='auto', copy_x=True, init='k-means++', max_iter=300,\n",
       "    n_clusters=3, n_init=10, n_jobs=1, precompute_distances='auto',\n",
       "    random_state=None, tol=0.0001, verbose=0)"
      ]
     },
     "execution_count": 60,
     "metadata": {},
     "output_type": "execute_result"
    }
   ],
   "source": [
    "from sklearn.cluster import KMeans\n",
    "est = KMeans(n_clusters=3)\n",
    "est"
   ]
  },
  {
   "cell_type": "code",
   "execution_count": 61,
   "metadata": {},
   "outputs": [
    {
     "name": "stdout",
     "output_type": "stream",
     "text": [
      "132\n"
     ]
    },
    {
     "name": "stderr",
     "output_type": "stream",
     "text": [
      "C:\\Users\\Nitesh\\Anaconda3\\lib\\site-packages\\sklearn\\utils\\validation.py:433: ComplexWarning: Casting complex values to real discards the imaginary part\n",
      "  array = np.array(array, dtype=dtype, order=order, copy=copy)\n"
     ]
    }
   ],
   "source": [
    "est.fit(RG_mbd)\n",
    "labels = est.labels_\n",
    "print(len(labels))"
   ]
  },
  {
   "cell_type": "code",
   "execution_count": 62,
   "metadata": {},
   "outputs": [
    {
     "name": "stdout",
     "output_type": "stream",
     "text": [
      "132\n"
     ]
    }
   ],
   "source": [
    "color_map = {0:'blue',1:'red',2:'green'}\n",
    "node_color = {k:color_map[labels[k]] for k in range(len(labels))}\n",
    "pos = nx.spring_layout(friends_g)\n",
    "i = 0 \n",
    "pos_ = {}\n",
    "for key,value in pos.items():\n",
    "    pos_[i] = value\n",
    "    i = i+1\n",
    "#print(pos)\n",
    "print(len(pos))\n",
    "blue = [i for i in range(114) if labels[i] == 0]\n",
    "green = [i for i in range(114) if labels[i] == 1]\n",
    "red  = [i for i in range(114) if labels[i] == 2]\n"
   ]
  },
  {
   "cell_type": "code",
   "execution_count": 63,
   "metadata": {},
   "outputs": [
    {
     "data": {
      "image/png": "[encoded data removed]",
      "text/plain": [
       "<matplotlib.figure.Figure at 0x249355c9358>"
      ]
     },
     "metadata": {},
     "output_type": "display_data"
    }
   ],
   "source": [
    "nx.draw_networkx_nodes(friends_g,pos_,nodelist=red,node_color='r',node_size=20,alpha=0.8)\n",
    "nx.draw_networkx_nodes(friends_g,pos_,nodelist=blue,node_color='b',node_size=20,alpha=0.8)\n",
    "nx.draw_networkx_nodes(friends_g,pos_, nodelist=green,node_color='g',node_size=20,alpha=0.8)\n",
    "nx.draw_networkx_edges(friends_g,pos)\n",
    "plt.show()"
   ]
  },
  {
   "cell_type": "code",
   "execution_count": null,
   "metadata": {
    "collapsed": true
   },
   "outputs": [],
   "source": []
  }
 ],
 "metadata": {
  "kernelspec": {
   "display_name": "Python 3",
   "language": "python",
   "name": "python3"
  },
  "language_info": {
   "codemirror_mode": {
    "name": "ipython",
    "version": 3
   },
   "file_extension": ".py",
   "mimetype": "text/x-python",
   "name": "python",
   "nbconvert_exporter": "python",
   "pygments_lexer": "ipython3",
   "version": "3.6.3"
  }
 },
 "nbformat": 4,
 "nbformat_minor": 2
}
